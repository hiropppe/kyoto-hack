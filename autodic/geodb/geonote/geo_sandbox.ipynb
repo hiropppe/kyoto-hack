{
 "cells": [
  {
   "cell_type": "code",
   "execution_count": 5,
   "metadata": {
    "collapsed": true
   },
   "outputs": [],
   "source": [
    "import pandas as pd\n",
    "from pandas import DataFrame, Series\n",
    "import pandas.io.sql as sql\n",
    "import sqlite3\n",
    "\n",
    "conn = sqlite3.connect('../geo.db')"
   ]
  },
  {
   "cell_type": "code",
   "execution_count": 22,
   "metadata": {
    "collapsed": false
   },
   "outputs": [],
   "source": [
    "df = sql.read_sql('select g.geo_id, g.name, a.name `alias`, g.uri from Geo g left join Alias a on a.geo_id = g.geo_id limit 100', conn)"
   ]
  },
  {
   "cell_type": "code",
   "execution_count": 25,
   "metadata": {
    "collapsed": false
   },
   "outputs": [
    {
     "name": "stdout",
     "output_type": "stream",
     "text": [
      "松前温泉保養センター\n",
      "白神岬\n",
      "北海道最南端  白神岬\n",
      "白神岬\n",
      "居酒屋 留\n",
      "道の駅 横綱の里ふくしま\n",
      "桜樹\n",
      "渡島福島駅\n",
      "福島町横綱ビーチ\n",
      "Yoshioka-Kaitei Station\n",
      "横綱 千代の山 千代の富士 記念館\n",
      "喫茶 タイム\n",
      "北海道福島町\n",
      "福島大神宮\n",
      "奥尻空港\n",
      "夷王山\n",
      "道の駅上ノ国もんじゅ\n",
      "宮寿司\n",
      "湯ノ岱温泉郷 国民温泉保養センター\n",
      "Shinmei Station (Hokkaido)\n",
      "上ノ国町国民温泉保養センター\n",
      "Katsuraoka Station\n",
      "Naka-Suda Station\n",
      "Miyakoshi Station\n",
      "天の川・菜の花油工房なたね油搾り体験\n",
      "檜山郡上ノ国町字上ノ国\n",
      "花沢温泉\n",
      "夷王亭\n",
      "上ノ国夷王山\n",
      "上ノ国町立上ノ国小学校\n",
      "Kaminokuni Station\n",
      "Jōkoku-ji\n",
      "居酒屋 美里\n",
      "ラーメンめんぞう\n",
      "青函トンネル\n",
      "知内発電所\n",
      "道の駅みそぎの郷_きこない\n",
      "コッペン道土\n",
      "どうなんdes　ocuda　Spirits\n",
      "木古内町観光協会\n",
      "有)ヒエヌキ　スーパーサンメイト\n",
      "木古内駅\n",
      "Kikonai town. Shinkansen-Regional Development Team. Hayabusa03\n",
      "Kikonai Station\n",
      "道の駅 みそぎの郷 きこない - 北海道木古内町\n",
      "札苅駅\n",
      "泉沢駅\n",
      "渡島当別駅\n",
      "トラピスト修道院\n",
      "釜谷駅\n",
      "矢不来信号場\n",
      "北斗茂辺地インターチェンジ\n",
      "茂辺地駅\n",
      "北斗富川インターチェンジ\n",
      "アンビックス函館倶楽部\n",
      "江差フェリーターミナル\n",
      "江差 姥神大神宮\n",
      "江差町文化会館\n",
      "江差町役場\n",
      "皐月蔵チャミセ\n",
      "かもめ島\n",
      "れすとらん江差屋\n",
      "食彩酒房　さと水\n",
      "ホテル寺子屋\n",
      "五勝手屋本舗\n",
      "江差別院\n",
      "やまげん\n",
      "壱番蔵\n",
      "イタリア風居酒屋パレス\n",
      "焼肉 ひょうたん\n",
      "Esashi Station\n",
      "居酒屋あひる\n",
      "ローソン　江差姥神店\n",
      "笠原木工\n",
      "れすとらん津花館\n",
      "江差追分会館\n",
      "つるみ食堂\n",
      "ひのき亭\n",
      "ホテルニューえさし\n",
      "Hiyama Prefectural Natural Park\n",
      "麺や壱\n",
      "レディスショップたじま\n",
      "檜山教職員組合\n",
      "田村釣具店\n",
      "横山家\n",
      "ひやまスポーツ（フットサルショップhsp）\n",
      "江差運動公園\n",
      "Mayakari　江差\n",
      "江差 いにしえ街道\n",
      "旧檜山爾志郡役所 - 江差町郷土資料館\n",
      "江差フェリー乗り場\n",
      "開陽丸\n",
      "津花館\n",
      "ぱんやBecky\n",
      "江差港\n",
      "江差商工会\n",
      "手打ちそば和海\n",
      "江差港マリーナ\n",
      "繁次郎浜\n",
      "道の駅 えさし\n"
     ]
    }
   ],
   "source": [
    "for _, v in df.iterrows():\n",
    "    print v['name']"
   ]
  }
 ],
 "metadata": {
  "kernelspec": {
   "display_name": "Python 2",
   "language": "python",
   "name": "python2"
  },
  "language_info": {
   "codemirror_mode": {
    "name": "ipython",
    "version": 2
   },
   "file_extension": ".py",
   "mimetype": "text/x-python",
   "name": "python",
   "nbconvert_exporter": "python",
   "pygments_lexer": "ipython2",
   "version": "2.7.11"
  }
 },
 "nbformat": 4,
 "nbformat_minor": 0
}
